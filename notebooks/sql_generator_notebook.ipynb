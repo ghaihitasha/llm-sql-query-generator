{
 "cells": [
  {
   "cell_type": "markdown",
   "id": "72472ad2",
   "metadata": {},
   "source": [
    "# LLM-Based SQL Query Generator\n",
    "This notebook demonstrates how to generate SQL queries from natural language using GPT-4.\n",
    "We will:\n",
    "1. Load necessary libraries.\n",
    "2. Set up API keys and model configuration.\n",
    "3. Define a function to format user input for GPT-4.\n",
    "4. Generate an SQL query based on a given database schema."
   ]
  },
  {
   "cell_type": "code",
   "execution_count": null,
   "id": "c5c24c95",
   "metadata": {},
   "outputs": [],
   "source": [
    "from openai import OpenAI\n",
    "import os\n",
    "from dotenv import load_dotenv\n",
    "import sqlparse\n",
    "import sqlite3\n",
    "import streamlit as st"
   ]
  },
  {
   "cell_type": "code",
   "execution_count": null,
   "id": "9cd9af12",
   "metadata": {},
   "outputs": [],
   "source": [
    "# Load API key from .env\n",
    "load_dotenv(override=True)\n",
    "OPENAI_API_KEY = os.getenv(\"OPENAI_API_KEY\") # make sure to have your OPENAI API key saved in the .env file\n",
    "\n",
    "OPENAI_model = \"gpt-4\"\n",
    "openai = OpenAI()   "
   ]
  },
  {
   "cell_type": "markdown",
   "id": "482505b6",
   "metadata": {},
   "source": [
    "The `prompt_for` function constructs a structured prompt that guides GPT-4 to convert natural language queries into well-structured SQL queries based on a given database schema."
   ]
  },
  {
   "cell_type": "code",
   "execution_count": null,
   "id": "0b85cf42",
   "metadata": {},
   "outputs": [],
   "source": [
    "# Formatting the user prompt\n",
    "def prompt_for(db_schema,nlp_query):\n",
    "    system_prompt = f\"\"\"\n",
    "    You are an assistant which takes an input a query written in natural language\n",
    "    and converts this into a well structured SQL query.\n",
    "    The schema of the database is: {db_schema}\n",
    "    Do not provide or explaination of the query, just the query.\n",
    "    \"\"\"\n",
    "    user_prompt = f\"Convert the following request into an SQL query: {nlp_query}\"\n",
    "    messages = [\n",
    "        {\"role\": \"system\", \"content\": system_prompt},\n",
    "        {\"role\": \"user\", \"content\": user_prompt}\n",
    "    ]\n",
    "    return messages"
   ]
  },
  {
   "cell_type": "code",
   "execution_count": null,
   "id": "16e34a14",
   "metadata": {},
   "outputs": [],
   "source": [
    "user_query = \"Select all directors born before 1980.\"\n",
    "db_schema = \"data/spider_data/database/imdb/schema.sql\"\n",
    "db_path = \"../data/spider_data/database/imdb/imdb.sqlite\""
   ]
  },
  {
   "cell_type": "code",
   "execution_count": null,
   "id": "cf0990c0",
   "metadata": {},
   "outputs": [],
   "source": [
    "def load_db_schema(db_path):\n",
    "    \"\"\"Fetches the database schema from SQLite.\"\"\"\n",
    "    conn = sqlite3.connect(db_path)\n",
    "    cursor = conn.cursor()\n",
    "    \n",
    "    cursor.execute(\"SELECT sql FROM sqlite_master WHERE type='table';\")\n",
    "    schema = \"\\n\".join(row[0] for row in cursor.fetchall() if row[0])\n",
    "    \n",
    "    conn.close()\n",
    "    return schema"
   ]
  },
  {
   "cell_type": "code",
   "execution_count": null,
   "id": "9cbc3fca",
   "metadata": {},
   "outputs": [],
   "source": [
    "load_db_schema(db_path)"
   ]
  },
  {
   "cell_type": "code",
   "execution_count": null,
   "id": "563f3143",
   "metadata": {},
   "outputs": [],
   "source": [
    "print(prompt_for(load_db_schema(db_path),user_query))"
   ]
  },
  {
   "cell_type": "code",
   "execution_count": null,
   "id": "e8354c82",
   "metadata": {},
   "outputs": [],
   "source": [
    "# Generates an SQL query from natural language input using above defined model\n",
    "def generate_sql(db_schema,nlp_query):\n",
    "    messages = prompt_for(db_schema,nlp_query)\n",
    "\n",
    "    # Call OpenAI\n",
    "    response = openai.chat.completions.create(\n",
    "        model=OPENAI_model, messages=messages, temperature=0.1\n",
    "    )\n",
    "\n",
    "    return response.choices[0].message.content"
   ]
  },
  {
   "cell_type": "code",
   "execution_count": null,
   "id": "2f40c666",
   "metadata": {},
   "outputs": [],
   "source": [
    "sql_query = generate_sql(load_db_schema(db_path),user_query)\n",
    "print(sql_query)"
   ]
  },
  {
   "cell_type": "code",
   "execution_count": null,
   "id": "3a6a567d",
   "metadata": {},
   "outputs": [],
   "source": [
    "def validate_sql(query):\n",
    "    try:\n",
    "        parsed = sqlparse.parse(query)\n",
    "        if not parsed:\n",
    "            return False, \"Invalid SQL syntax.\"\n",
    "        return True, \"SQL is valid\"\n",
    "    except Exception as e:\n",
    "        return False, str(e)\n",
    "    \n",
    "def execute_test_query(query, db_path):\n",
    "    try:\n",
    "        conn = sqlite3.connect(db_path)\n",
    "        cursor = conn.cursor()\n",
    "        \n",
    "        cursor.execute(query)\n",
    "        conn.commit()\n",
    "        conn.close()\n",
    "        return True, \"SQL executed successfully\"\n",
    "    except Exception as e:\n",
    "        return False, str(e)"
   ]
  },
  {
   "cell_type": "code",
   "execution_count": null,
   "id": "57b7e756",
   "metadata": {},
   "outputs": [],
   "source": [
    "valid, msg = validate_sql(sql_query)\n",
    "print(\"\\nValidation Result:\\n\", msg)\n",
    "\n",
    "if valid:\n",
    "    executed, exec_msg = execute_test_query(sql_query,db_path)\n",
    "    print(\"\\nExecution Test:\\n\", exec_msg)"
   ]
  },
  {
   "cell_type": "code",
   "execution_count": null,
   "id": "e4cf4c0d",
   "metadata": {},
   "outputs": [],
   "source": [
    "st.title(\"LLM-Based SQL Query Generator\")\n",
    "\n",
    "st.sidebar.header(\"Project Settings\")\n",
    "db_path = st.sidebar.text_input(\"Database Path\",\"imdb.sqlite\")\n",
    "\n",
    "natural_language_query = st.text_area(\"Enter your natural language query: \", \"\")"
   ]
  }
 ],
 "metadata": {
  "kernelspec": {
   "display_name": "Python 3 (ipykernel)",
   "language": "python",
   "name": "python3"
  },
  "language_info": {
   "codemirror_mode": {
    "name": "ipython",
    "version": 3
   },
   "file_extension": ".py",
   "mimetype": "text/x-python",
   "name": "python",
   "nbconvert_exporter": "python",
   "pygments_lexer": "ipython3",
   "version": "3.9.13"
  }
 },
 "nbformat": 4,
 "nbformat_minor": 5
}
